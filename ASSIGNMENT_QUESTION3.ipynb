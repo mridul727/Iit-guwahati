{
 "cells": [
  {
   "cell_type": "markdown",
   "id": "0a3fd811-6748-46d8-8c84-df297f325d19",
   "metadata": {},
   "source": [
    "# The CIFAR-10 dataset consists of 60,000 32x32 color images in 10 classes, with 6,000 images per class. Classify each image into one of the 10 classes.\n",
    "\n",
    "# A. Using a Convolutional Neural Network (CNN) classifier\n",
    "# B. Using an AlexNet classifier\n",
    "# C. Using a pre-trained ResNet model\n",
    "# D. Using a pre-trained Inception model\n",
    "# E. Provided a specific neural network architecture, train the CIFAR-10 dataset to classify"
   ]
  },
  {
   "cell_type": "code",
   "execution_count": null,
   "id": "75c6ea77-23f7-4739-a9a9-a9be17909ca4",
   "metadata": {},
   "outputs": [],
   "source": [
    "!pip install tensorflow"
   ]
  },
  {
   "cell_type": "code",
   "execution_count": 5,
   "id": "57f7f3bf-1f22-4f73-97a0-069171821c7f",
   "metadata": {},
   "outputs": [],
   "source": [
    "import tensorflow as tf\n",
    "from tensorflow.keras import layers, models\n",
    "from tensorflow.keras.datasets import cifar10\n",
    "from tensorflow.keras.utils import to_categorical\n",
    "import numpy as np\n",
    "\n",
    "# Load and preprocess data\n",
    "(x_train, y_train), (x_test, y_test) = cifar10.load_data()\n",
    "x_train, x_test = x_train/255.0, x_test/255.0\n",
    "y_train_cat = to_categorical(y_train, 10)\n",
    "y_test_cat = to_categorical(y_test, 10)"
   ]
  },
  {
   "cell_type": "markdown",
   "id": "d58ce069-8edb-49c6-a3d5-4ac08fd0691a",
   "metadata": {},
   "source": [
    "# CNN Classifier"
   ]
  },
  {
   "cell_type": "code",
   "execution_count": 7,
   "id": "19a1feab-6e81-48c8-bb57-5de214946a6e",
   "metadata": {},
   "outputs": [
    {
     "name": "stderr",
     "output_type": "stream",
     "text": [
      "C:\\Users\\LOQ\\anaconda3\\Lib\\site-packages\\keras\\src\\layers\\convolutional\\base_conv.py:113: UserWarning: Do not pass an `input_shape`/`input_dim` argument to a layer. When using Sequential models, prefer using an `Input(shape)` object as the first layer in the model instead.\n",
      "  super().__init__(activity_regularizer=activity_regularizer, **kwargs)\n"
     ]
    },
    {
     "name": "stdout",
     "output_type": "stream",
     "text": [
      "Epoch 1/5\n",
      "\u001b[1m782/782\u001b[0m \u001b[32m━━━━━━━━━━━━━━━━━━━━\u001b[0m\u001b[37m\u001b[0m \u001b[1m12s\u001b[0m 13ms/step - accuracy: 0.3500 - loss: 1.7915 - val_accuracy: 0.5506 - val_loss: 1.2711\n",
      "Epoch 2/5\n",
      "\u001b[1m782/782\u001b[0m \u001b[32m━━━━━━━━━━━━━━━━━━━━\u001b[0m\u001b[37m\u001b[0m \u001b[1m9s\u001b[0m 12ms/step - accuracy: 0.5617 - loss: 1.2447 - val_accuracy: 0.5810 - val_loss: 1.1757\n",
      "Epoch 3/5\n",
      "\u001b[1m782/782\u001b[0m \u001b[32m━━━━━━━━━━━━━━━━━━━━\u001b[0m\u001b[37m\u001b[0m \u001b[1m9s\u001b[0m 11ms/step - accuracy: 0.6171 - loss: 1.0870 - val_accuracy: 0.6452 - val_loss: 1.0266\n",
      "Epoch 4/5\n",
      "\u001b[1m782/782\u001b[0m \u001b[32m━━━━━━━━━━━━━━━━━━━━\u001b[0m\u001b[37m\u001b[0m \u001b[1m9s\u001b[0m 11ms/step - accuracy: 0.6578 - loss: 0.9760 - val_accuracy: 0.6517 - val_loss: 1.0071\n",
      "Epoch 5/5\n",
      "\u001b[1m782/782\u001b[0m \u001b[32m━━━━━━━━━━━━━━━━━━━━\u001b[0m\u001b[37m\u001b[0m \u001b[1m9s\u001b[0m 12ms/step - accuracy: 0.6823 - loss: 0.9075 - val_accuracy: 0.6592 - val_loss: 0.9812\n"
     ]
    },
    {
     "data": {
      "text/plain": [
       "<keras.src.callbacks.history.History at 0x14bdfcf5820>"
      ]
     },
     "execution_count": 7,
     "metadata": {},
     "output_type": "execute_result"
    }
   ],
   "source": [
    "def build_cnn_model():\n",
    "    model = models.Sequential([\n",
    "        layers.Conv2D(32, (3, 3), activation='relu', input_shape=(32, 32, 3)),\n",
    "        layers.MaxPooling2D((2, 2)),\n",
    "        layers.Conv2D(64, (3, 3), activation='relu'),\n",
    "        layers.MaxPooling2D((2, 2)),\n",
    "        layers.Flatten(),\n",
    "        layers.Dense(64, activation='relu'),\n",
    "        layers.Dense(10, activation='softmax')\n",
    "    ])\n",
    "    return model\n",
    "\n",
    "cnn_model = build_cnn_model()\n",
    "cnn_model.compile(optimizer='adam', loss='categorical_crossentropy', metrics=['accuracy'])\n",
    "cnn_model.fit(x_train, y_train_cat, epochs=5, batch_size=64, validation_data=(x_test, y_test_cat))\n"
   ]
  },
  {
   "cell_type": "markdown",
   "id": "8c67d6c7-0f1e-43c9-9957-35c201eae960",
   "metadata": {},
   "source": [
    "# AlexNet Classifier"
   ]
  },
  {
   "cell_type": "code",
   "execution_count": 9,
   "id": "c16f06ed-c576-4785-9a65-9b6cefc7202e",
   "metadata": {},
   "outputs": [
    {
     "name": "stdout",
     "output_type": "stream",
     "text": [
      "Epoch 1/5\n",
      "\u001b[1m782/782\u001b[0m \u001b[32m━━━━━━━━━━━━━━━━━━━━\u001b[0m\u001b[37m\u001b[0m \u001b[1m179s\u001b[0m 222ms/step - accuracy: 0.2836 - loss: 1.9035 - val_accuracy: 0.3994 - val_loss: 1.6991\n",
      "Epoch 2/5\n",
      "\u001b[1m782/782\u001b[0m \u001b[32m━━━━━━━━━━━━━━━━━━━━\u001b[0m\u001b[37m\u001b[0m \u001b[1m172s\u001b[0m 220ms/step - accuracy: 0.4828 - loss: 1.4506 - val_accuracy: 0.5145 - val_loss: 1.3474\n",
      "Epoch 3/5\n",
      "\u001b[1m782/782\u001b[0m \u001b[32m━━━━━━━━━━━━━━━━━━━━\u001b[0m\u001b[37m\u001b[0m \u001b[1m173s\u001b[0m 222ms/step - accuracy: 0.5477 - loss: 1.2850 - val_accuracy: 0.5181 - val_loss: 1.4392\n",
      "Epoch 4/5\n",
      "\u001b[1m782/782\u001b[0m \u001b[32m━━━━━━━━━━━━━━━━━━━━\u001b[0m\u001b[37m\u001b[0m \u001b[1m172s\u001b[0m 220ms/step - accuracy: 0.5939 - loss: 1.1704 - val_accuracy: 0.5633 - val_loss: 1.2654\n",
      "Epoch 5/5\n",
      "\u001b[1m782/782\u001b[0m \u001b[32m━━━━━━━━━━━━━━━━━━━━\u001b[0m\u001b[37m\u001b[0m \u001b[1m173s\u001b[0m 221ms/step - accuracy: 0.6319 - loss: 1.0683 - val_accuracy: 0.5745 - val_loss: 1.2705\n"
     ]
    },
    {
     "data": {
      "text/plain": [
       "<keras.src.callbacks.history.History at 0x14be9b4de20>"
      ]
     },
     "execution_count": 9,
     "metadata": {},
     "output_type": "execute_result"
    }
   ],
   "source": [
    "def build_alexnet_model():\n",
    "    model = models.Sequential([\n",
    "        layers.Conv2D(96, (11, 11), strides=(4, 4), activation='relu', input_shape=(32, 32, 3), padding='same'),\n",
    "        layers.BatchNormalization(),\n",
    "        layers.MaxPooling2D((2, 2)),\n",
    "\n",
    "        layers.Conv2D(256, (5, 5), activation='relu', padding='same'),\n",
    "        layers.BatchNormalization(),\n",
    "        layers.MaxPooling2D((2, 2)),\n",
    "\n",
    "        layers.Conv2D(384, (3, 3), activation='relu', padding='same'),\n",
    "        layers.Conv2D(384, (3, 3), activation='relu', padding='same'),\n",
    "        layers.Conv2D(256, (3, 3), activation='relu', padding='same'),\n",
    "        layers.MaxPooling2D((2, 2)),\n",
    "\n",
    "        layers.Flatten(),\n",
    "        layers.Dense(4096, activation='relu'),\n",
    "        layers.Dropout(0.5),\n",
    "        layers.Dense(4096, activation='relu'),\n",
    "        layers.Dropout(0.5),\n",
    "        layers.Dense(10, activation='softmax')\n",
    "    ])\n",
    "    return model\n",
    "\n",
    "alexnet_model = build_alexnet_model()\n",
    "alexnet_model.compile(optimizer='adam', loss='categorical_crossentropy', metrics=['accuracy'])\n",
    "alexnet_model.fit(x_train, y_train_cat, epochs=5, batch_size=64, validation_data=(x_test, y_test_cat))\n"
   ]
  },
  {
   "cell_type": "markdown",
   "id": "bf306543-dc5a-4aaa-bfed-18287c584225",
   "metadata": {},
   "source": [
    "# Pre-trained ResNet Model"
   ]
  },
  {
   "cell_type": "code",
   "execution_count": 11,
   "id": "77fd6596-d582-48dd-bc3f-b5640e7a020b",
   "metadata": {},
   "outputs": [
    {
     "name": "stdout",
     "output_type": "stream",
     "text": [
      "Epoch 1/5\n",
      "\u001b[1m1563/1563\u001b[0m \u001b[32m━━━━━━━━━━━━━━━━━━━━\u001b[0m\u001b[37m\u001b[0m \u001b[1m1386s\u001b[0m 881ms/step - accuracy: 0.1365 - loss: 2.2856 - val_accuracy: 0.2166 - val_loss: 2.0632\n",
      "Epoch 2/5\n",
      "\u001b[1m1563/1563\u001b[0m \u001b[32m━━━━━━━━━━━━━━━━━━━━\u001b[0m\u001b[37m\u001b[0m \u001b[1m1413s\u001b[0m 904ms/step - accuracy: 0.2361 - loss: 2.0195 - val_accuracy: 0.2555 - val_loss: 1.9603\n",
      "Epoch 3/5\n",
      "\u001b[1m1563/1563\u001b[0m \u001b[32m━━━━━━━━━━━━━━━━━━━━\u001b[0m\u001b[37m\u001b[0m \u001b[1m1367s\u001b[0m 875ms/step - accuracy: 0.2614 - loss: 1.9530 - val_accuracy: 0.2756 - val_loss: 1.9153\n",
      "Epoch 4/5\n",
      "\u001b[1m1563/1563\u001b[0m \u001b[32m━━━━━━━━━━━━━━━━━━━━\u001b[0m\u001b[37m\u001b[0m \u001b[1m1354s\u001b[0m 867ms/step - accuracy: 0.2799 - loss: 1.9146 - val_accuracy: 0.2895 - val_loss: 1.8949\n",
      "Epoch 5/5\n",
      "\u001b[1m1563/1563\u001b[0m \u001b[32m━━━━━━━━━━━━━━━━━━━━\u001b[0m\u001b[37m\u001b[0m \u001b[1m1345s\u001b[0m 860ms/step - accuracy: 0.2972 - loss: 1.8825 - val_accuracy: 0.2984 - val_loss: 1.8690\n"
     ]
    },
    {
     "data": {
      "text/plain": [
       "<keras.src.callbacks.history.History at 0x14beb13da60>"
      ]
     },
     "execution_count": 11,
     "metadata": {},
     "output_type": "execute_result"
    }
   ],
   "source": [
    "from tensorflow.keras.applications import ResNet50\n",
    "from tensorflow.keras.applications.resnet import preprocess_input\n",
    "from tensorflow.keras import layers, models\n",
    "import tensorflow as tf\n",
    "from tensorflow.keras.utils import to_categorical\n",
    "\n",
    "# Preprocess function for ResNet\n",
    "def preprocess_resnet(image, label):\n",
    "    image = tf.image.resize(image, (224, 224))\n",
    "    image = preprocess_input(image)\n",
    "    return image, label\n",
    "\n",
    "# Create tf.data pipelines for batch-wise loading and resizing\n",
    "BATCH_SIZE = 32\n",
    "\n",
    "train_ds = tf.data.Dataset.from_tensor_slices((x_train, y_train_cat))\n",
    "train_ds = train_ds.map(preprocess_resnet, num_parallel_calls=tf.data.AUTOTUNE).batch(BATCH_SIZE).prefetch(tf.data.AUTOTUNE)\n",
    "\n",
    "test_ds = tf.data.Dataset.from_tensor_slices((x_test, y_test_cat))\n",
    "test_ds = test_ds.map(preprocess_resnet, num_parallel_calls=tf.data.AUTOTUNE).batch(BATCH_SIZE).prefetch(tf.data.AUTOTUNE)\n",
    "\n",
    "# Load pretrained ResNet\n",
    "base_resnet = ResNet50(weights='imagenet', include_top=False, input_shape=(224, 224, 3))\n",
    "base_resnet.trainable = False\n",
    "\n",
    "# Define model\n",
    "resnet_model = models.Sequential([\n",
    "    base_resnet,\n",
    "    layers.GlobalAveragePooling2D(),\n",
    "    layers.Dense(256, activation='relu'),\n",
    "    layers.Dense(10, activation='softmax')\n",
    "])\n",
    "\n",
    "# Compile and train\n",
    "resnet_model.compile(optimizer='adam', loss='categorical_crossentropy', metrics=['accuracy'])\n",
    "resnet_model.fit(train_ds, epochs=5, validation_data=test_ds)\n"
   ]
  },
  {
   "cell_type": "markdown",
   "id": "3a15c4b3-ecf1-488f-a402-b956ff737381",
   "metadata": {},
   "source": [
    "# Pre-trained Inception Model"
   ]
  },
  {
   "cell_type": "code",
   "execution_count": 13,
   "id": "3dda6ac2-65f3-4a39-bb7d-a982fb65712d",
   "metadata": {},
   "outputs": [
    {
     "name": "stdout",
     "output_type": "stream",
     "text": [
      "Downloading data from https://storage.googleapis.com/tensorflow/keras-applications/inception_v3/inception_v3_weights_tf_dim_ordering_tf_kernels_notop.h5\n",
      "\u001b[1m87910968/87910968\u001b[0m \u001b[32m━━━━━━━━━━━━━━━━━━━━\u001b[0m\u001b[37m\u001b[0m \u001b[1m23s\u001b[0m 0us/step\n",
      "Epoch 1/5\n",
      "\u001b[1m3125/3125\u001b[0m \u001b[32m━━━━━━━━━━━━━━━━━━━━\u001b[0m\u001b[37m\u001b[0m \u001b[1m1468s\u001b[0m 468ms/step - accuracy: 0.1366 - loss: 2.2604 - val_accuracy: 0.1970 - val_loss: 2.1179\n",
      "Epoch 2/5\n",
      "\u001b[1m3125/3125\u001b[0m \u001b[32m━━━━━━━━━━━━━━━━━━━━\u001b[0m\u001b[37m\u001b[0m \u001b[1m1446s\u001b[0m 463ms/step - accuracy: 0.2254 - loss: 2.0293 - val_accuracy: 0.2573 - val_loss: 1.9331\n",
      "Epoch 3/5\n",
      "\u001b[1m3125/3125\u001b[0m \u001b[32m━━━━━━━━━━━━━━━━━━━━\u001b[0m\u001b[37m\u001b[0m \u001b[1m1425s\u001b[0m 456ms/step - accuracy: 0.2538 - loss: 1.9013 - val_accuracy: 0.2692 - val_loss: 1.8706\n",
      "Epoch 4/5\n",
      "\u001b[1m3125/3125\u001b[0m \u001b[32m━━━━━━━━━━━━━━━━━━━━\u001b[0m\u001b[37m\u001b[0m \u001b[1m1443s\u001b[0m 462ms/step - accuracy: 0.2667 - loss: 1.8582 - val_accuracy: 0.2745 - val_loss: 1.8444\n",
      "Epoch 5/5\n",
      "\u001b[1m3125/3125\u001b[0m \u001b[32m━━━━━━━━━━━━━━━━━━━━\u001b[0m\u001b[37m\u001b[0m \u001b[1m1464s\u001b[0m 469ms/step - accuracy: 0.2733 - loss: 1.8357 - val_accuracy: 0.2769 - val_loss: 1.8266\n"
     ]
    },
    {
     "data": {
      "text/plain": [
       "<keras.src.callbacks.history.History at 0x14c2800d8e0>"
      ]
     },
     "execution_count": 13,
     "metadata": {},
     "output_type": "execute_result"
    }
   ],
   "source": [
    "from tensorflow.keras.applications import InceptionV3\n",
    "from tensorflow.keras.applications.inception_v3 import preprocess_input as inception_preprocess\n",
    "from tensorflow.keras import layers, models\n",
    "import tensorflow as tf\n",
    "from tensorflow.keras.utils import to_categorical\n",
    "\n",
    "# Resize + preprocess per sample (safe)\n",
    "def preprocess_inception(image, label):\n",
    "    image = tf.image.resize(image, (299, 299))\n",
    "    image = inception_preprocess(image)\n",
    "    return image, label\n",
    "\n",
    "# Create tf.data pipeline (memory-safe)\n",
    "BATCH_SIZE = 16  # Use small batch size for 299x299 inputs\n",
    "\n",
    "train_ds = tf.data.Dataset.from_tensor_slices((x_train, y_train_cat))\n",
    "train_ds = train_ds.map(preprocess_inception).batch(BATCH_SIZE).prefetch(tf.data.AUTOTUNE)\n",
    "\n",
    "test_ds = tf.data.Dataset.from_tensor_slices((x_test, y_test_cat))\n",
    "test_ds = test_ds.map(preprocess_inception).batch(BATCH_SIZE).prefetch(tf.data.AUTOTUNE)\n",
    "\n",
    "# Load pre-trained InceptionV3\n",
    "base_inception = InceptionV3(weights='imagenet', include_top=False, input_shape=(299, 299, 3))\n",
    "base_inception.trainable = False\n",
    "\n",
    "# Build the model\n",
    "inception_model = models.Sequential([\n",
    "    base_inception,\n",
    "    layers.GlobalAveragePooling2D(),\n",
    "    layers.Dense(256, activation='relu'),\n",
    "    layers.Dense(10, activation='softmax')\n",
    "])\n",
    "\n",
    "# Compile and train\n",
    "inception_model.compile(optimizer='adam', loss='categorical_crossentropy', metrics=['accuracy'])\n",
    "inception_model.fit(train_ds, epochs=5, validation_data=test_ds)\n"
   ]
  },
  {
   "cell_type": "markdown",
   "id": "f123a3f0-76dc-45f7-846b-577df4ec4c49",
   "metadata": {},
   "source": [
    "# Custom Model Architecture"
   ]
  },
  {
   "cell_type": "code",
   "execution_count": 17,
   "id": "426abd47-b975-46d7-8e78-e5918367fbe8",
   "metadata": {},
   "outputs": [
    {
     "name": "stdout",
     "output_type": "stream",
     "text": [
      "Epoch 1/5\n",
      "\u001b[1m782/782\u001b[0m \u001b[32m━━━━━━━━━━━━━━━━━━━━\u001b[0m\u001b[37m\u001b[0m \u001b[1m5s\u001b[0m 5ms/step - accuracy: 0.3488 - loss: 1.7920 - val_accuracy: 0.5102 - val_loss: 1.3779\n",
      "Epoch 2/5\n",
      "\u001b[1m782/782\u001b[0m \u001b[32m━━━━━━━━━━━━━━━━━━━━\u001b[0m\u001b[37m\u001b[0m \u001b[1m4s\u001b[0m 5ms/step - accuracy: 0.5376 - loss: 1.3120 - val_accuracy: 0.5618 - val_loss: 1.2685\n",
      "Epoch 3/5\n",
      "\u001b[1m782/782\u001b[0m \u001b[32m━━━━━━━━━━━━━━━━━━━━\u001b[0m\u001b[37m\u001b[0m \u001b[1m4s\u001b[0m 5ms/step - accuracy: 0.5958 - loss: 1.1581 - val_accuracy: 0.5716 - val_loss: 1.2488\n",
      "Epoch 4/5\n",
      "\u001b[1m782/782\u001b[0m \u001b[32m━━━━━━━━━━━━━━━━━━━━\u001b[0m\u001b[37m\u001b[0m \u001b[1m4s\u001b[0m 5ms/step - accuracy: 0.6294 - loss: 1.0609 - val_accuracy: 0.6434 - val_loss: 1.0377\n",
      "Epoch 5/5\n",
      "\u001b[1m782/782\u001b[0m \u001b[32m━━━━━━━━━━━━━━━━━━━━\u001b[0m\u001b[37m\u001b[0m \u001b[1m4s\u001b[0m 5ms/step - accuracy: 0.6586 - loss: 0.9699 - val_accuracy: 0.6516 - val_loss: 1.0116\n"
     ]
    },
    {
     "data": {
      "text/plain": [
       "<keras.src.callbacks.history.History at 0x14c476c79b0>"
      ]
     },
     "execution_count": 17,
     "metadata": {},
     "output_type": "execute_result"
    }
   ],
   "source": [
    "def build_custom_model():\n",
    "    model = models.Sequential([\n",
    "        layers.Conv2D(16, (3,3), activation='relu', input_shape=(32,32,3)),\n",
    "        layers.MaxPooling2D((2,2)),\n",
    "        layers.Conv2D(32, (3,3), activation='relu'),\n",
    "        layers.MaxPooling2D((2,2)),\n",
    "        layers.Flatten(),\n",
    "        layers.Dense(128, activation='relu'),\n",
    "        layers.Dense(10, activation='softmax')\n",
    "    ])\n",
    "    return model\n",
    "\n",
    "custom_model = build_custom_model()\n",
    "custom_model.compile(optimizer='adam', loss='categorical_crossentropy', metrics=['accuracy'])\n",
    "custom_model.fit(x_train, y_train_cat, epochs=5, batch_size=64, validation_data=(x_test, y_test_cat))\n"
   ]
  },
  {
   "cell_type": "code",
   "execution_count": null,
   "id": "050301cb-1243-4389-a502-12da5ae0eb2f",
   "metadata": {},
   "outputs": [],
   "source": []
  },
  {
   "cell_type": "code",
   "execution_count": 19,
   "id": "1c2b4588-569f-4fdb-9422-8758c202004b",
   "metadata": {},
   "outputs": [],
   "source": [
    "import matplotlib.pyplot as plt\n",
    "class_names = ['airplane','automobile','bird','cat','deer','dog','frog','horse','ship','truck']\n",
    "\n",
    "def test_model_prediction(model, x_test, y_test, class_names, num_samples=5):\n",
    "    import random\n",
    "    indices = random.sample(range(len(x_test)), num_samples)\n",
    "    sample_images = x_test[indices]\n",
    "    sample_labels = y_test[indices]\n",
    "\n",
    "    predictions = model.predict(sample_images)\n",
    "\n",
    "    for i in range(num_samples):\n",
    "        plt.imshow(sample_images[i])\n",
    "        plt.axis('off')\n",
    "        true_label = class_names[int(sample_labels[i])]\n",
    "        pred_label = class_names[np.argmax(predictions[i])]\n",
    "        plt.title(f\"Predicted: {pred_label}, Actual: {true_label}\")\n",
    "        plt.show()\n",
    "\n",
    "# Use this with:\n",
    "# test_model_prediction(cnn_model, x_test, y_test, class_names)\n",
    "# test_model_prediction(alexnet_model, x_test, y_test, class_names)\n",
    "# test_model_prediction(custom_model, x_test, y_test, class_names)\n"
   ]
  },
  {
   "cell_type": "code",
   "execution_count": null,
   "id": "67743ffd-1b78-4c19-90b2-440fae1ddca2",
   "metadata": {},
   "outputs": [],
   "source": []
  },
  {
   "cell_type": "code",
   "execution_count": 21,
   "id": "cb40496d-859c-4cfc-81c3-5ee12c8e55f9",
   "metadata": {},
   "outputs": [],
   "source": [
    "def test_resnet_model(model, x_test_resized, y_test, class_names, num_samples=5):\n",
    "    import random\n",
    "    indices = random.sample(range(len(x_test_resized)), num_samples)\n",
    "    sample_images = x_test_resized.numpy()[indices]\n",
    "    sample_labels = y_test[indices]\n",
    "\n",
    "    predictions = model.predict(sample_images)\n",
    "\n",
    "    for i in range(num_samples):\n",
    "        plt.imshow(sample_images[i].astype(\"uint8\"))\n",
    "        plt.axis('off')\n",
    "        true_label = class_names[int(sample_labels[i])]\n",
    "        pred_label = class_names[np.argmax(predictions[i])]\n",
    "        plt.title(f\"Predicted: {pred_label}, Actual: {true_label}\")\n",
    "        plt.show()\n",
    "\n",
    "# test_resnet_model(resnet_model, x_test_resized, y_test, class_names)\n"
   ]
  },
  {
   "cell_type": "code",
   "execution_count": null,
   "id": "5910fc8e-df65-433e-89df-54bc6a3696a2",
   "metadata": {},
   "outputs": [],
   "source": []
  },
  {
   "cell_type": "code",
   "execution_count": 23,
   "id": "59e7e967-15c2-4989-b2cc-e58d5be05e3a",
   "metadata": {},
   "outputs": [],
   "source": [
    "def test_inception_model(model, x_test_inc, y_test, class_names, num_samples=5):\n",
    "    import random\n",
    "    indices = random.sample(range(len(x_test_inc)), num_samples)\n",
    "    sample_images = x_test_inc.numpy()[indices]\n",
    "    sample_labels = y_test[indices]\n",
    "\n",
    "    preprocessed_images = inception_preprocess(sample_images)\n",
    "    predictions = model.predict(preprocessed_images)\n",
    "\n",
    "    for i in range(num_samples):\n",
    "        plt.imshow(sample_images[i].astype(\"uint8\"))\n",
    "        plt.axis('off')\n",
    "        true_label = class_names[int(sample_labels[i])]\n",
    "        pred_label = class_names[np.argmax(predictions[i])]\n",
    "        plt.title(f\"Predicted: {pred_label}, Actual: {true_label}\")\n",
    "        plt.show()\n",
    "\n",
    "# test_inception_model(inception_model, x_test_inc, y_test, class_names)\n"
   ]
  },
  {
   "cell_type": "code",
   "execution_count": 25,
   "id": "5a8f97f5-8bee-4f61-a5d8-48b8545977b6",
   "metadata": {},
   "outputs": [
    {
     "name": "stdout",
     "output_type": "stream",
     "text": [
      "\u001b[1m1/1\u001b[0m \u001b[32m━━━━━━━━━━━━━━━━━━━━\u001b[0m\u001b[37m\u001b[0m \u001b[1m0s\u001b[0m 71ms/step\n"
     ]
    },
    {
     "name": "stderr",
     "output_type": "stream",
     "text": [
      "C:\\Users\\LOQ\\AppData\\Local\\Temp\\ipykernel_15084\\3426817196.py:15: DeprecationWarning: Conversion of an array with ndim > 0 to a scalar is deprecated, and will error in future. Ensure you extract a single element from your array before performing this operation. (Deprecated NumPy 1.25.)\n",
      "  true_label = class_names[int(sample_labels[i])]\n"
     ]
    },
    {
     "data": {
      "image/png": "[encoded data removed]",
      "text/plain": [
       "<Figure size 640x480 with 1 Axes>"
      ]
     },
     "metadata": {},
     "output_type": "display_data"
    },
    {
     "data": {
      "image/png": "[encoded data removed]",
      "text/plain": [
       "<Figure size 640x480 with 1 Axes>"
      ]
     },
     "metadata": {},
     "output_type": "display_data"
    },
    {
     "data": {
      "image/png": "[encoded data removed]",
      "text/plain": [
       "<Figure size 640x480 with 1 Axes>"
      ]
     },
     "metadata": {},
     "output_type": "display_data"
    },
    {
     "data": {
      "image/png": "[encoded data removed]",
      "text/plain": [
       "<Figure size 640x480 with 1 Axes>"
      ]
     },
     "metadata": {},
     "output_type": "display_data"
    },
    {
     "data": {
      "image/png": "[encoded data removed]",
      "text/plain": [
       "<Figure size 640x480 with 1 Axes>"
      ]
     },
     "metadata": {},
     "output_type": "display_data"
    }
   ],
   "source": [
    "test_model_prediction(cnn_model, x_test, y_test, class_names)"
   ]
  },
  {
   "cell_type": "code",
   "execution_count": null,
   "id": "4acb7bc5-301b-48c7-b7a5-045ed6f6834e",
   "metadata": {},
   "outputs": [],
   "source": []
  }
 ],
 "metadata": {
  "kernelspec": {
   "display_name": "Python [conda env:base] *",
   "language": "python",
   "name": "conda-base-py"
  },
  "language_info": {
   "codemirror_mode": {
    "name": "ipython",
    "version": 3
   },
   "file_extension": ".py",
   "mimetype": "text/x-python",
   "name": "python",
   "nbconvert_exporter": "python",
   "pygments_lexer": "ipython3",
   "version": "3.12.7"
  }
 },
 "nbformat": 4,
 "nbformat_minor": 5
}
